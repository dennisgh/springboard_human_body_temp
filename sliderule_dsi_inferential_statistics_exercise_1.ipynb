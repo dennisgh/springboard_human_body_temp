{
 "cells": [
  {
   "cell_type": "markdown",
   "metadata": {},
   "source": [
    "# What is the True Normal Human Body Temperature? \n",
    "\n",
    "#### Background\n",
    "\n",
    "The mean normal body temperature was held to be 37$^{\\circ}$C or 98.6$^{\\circ}$F for more than 120 years since it was first conceptualized and reported by Carl Wunderlich in a famous 1868 book. But, is this value statistically correct?"
   ]
  },
  {
   "cell_type": "markdown",
   "metadata": {},
   "source": [
    "<h3>Exercises</h3>\n",
    "\n",
    "<p>In this exercise, you will analyze a dataset of human body temperatures and employ the concepts of hypothesis testing, confidence intervals, and statistical significance.</p>\n",
    "\n",
    "<p>Answer the following questions <b>in this notebook below and submit to your Github account</b>.</p> \n",
    "\n",
    "<ol>\n",
    "<li>  Is the distribution of body temperatures normal? \n",
    "    <ul>\n",
    "    <li> Although this is not a requirement for the Central Limit Theorem to hold (read the introduction on Wikipedia's page about the CLT carefully: https://en.wikipedia.org/wiki/Central_limit_theorem), it gives us some peace of mind that the population may also be normally distributed if we assume that this sample is representative of the population.\n",
    "    <li> Think about the way you're going to check for the normality of the distribution. Graphical methods are usually used first, but there are also other ways: https://en.wikipedia.org/wiki/Normality_test\n",
    "    </ul>\n",
    "<li>  Is the sample size large? Are the observations independent?\n",
    "    <ul>\n",
    "    <li> Remember that this is a condition for the Central Limit Theorem, and hence the statistical tests we are using, to apply.\n",
    "    </ul>\n",
    "<li>  Is the true population mean really 98.6 degrees F?\n",
    "    <ul>\n",
    "    <li> First, try a bootstrap hypothesis test.\n",
    "    <li> Now, let's try frequentist statistical testing. Would you use a one-sample or two-sample test? Why?\n",
    "    <li> In this situation, is it appropriate to use the $t$ or $z$ statistic? \n",
    "    <li> Now try using the other test. How is the result be different? Why?\n",
    "    </ul>\n",
    "<li>  Draw a small sample of size 10 from the data and repeat both frequentist tests. \n",
    "    <ul>\n",
    "    <li> Which one is the correct one to use? \n",
    "    <li> What do you notice? What does this tell you about the difference in application of the $t$ and $z$ statistic?\n",
    "    </ul>\n",
    "<li>  At what temperature should we consider someone's temperature to be \"abnormal\"?\n",
    "    <ul>\n",
    "    <li> As in the previous example, try calculating everything using the boostrap approach, as well as the frequentist approach.\n",
    "    <li> Start by computing the margin of error and confidence interval. When calculating the confidence interval, keep in mind that you should use the appropriate formula for one draw, and not N draws.\n",
    "    </ul>\n",
    "<li>  Is there a significant difference between males and females in normal temperature?\n",
    "    <ul>\n",
    "    <li> What testing approach did you use and why?\n",
    "    <li> Write a story with your conclusion in the context of the original problem.\n",
    "    </ul>\n",
    "</ol>\n",
    "\n",
    "You can include written notes in notebook cells using Markdown: \n",
    "   - In the control panel at the top, choose Cell > Cell Type > Markdown\n",
    "   - Markdown syntax: http://nestacms.com/docs/creating-content/markdown-cheat-sheet\n",
    "\n",
    "#### Resources\n",
    "\n",
    "+ Information and data sources: http://www.amstat.org/publications/jse/datasets/normtemp.txt, http://www.amstat.org/publications/jse/jse_data_archive.htm\n",
    "+ Markdown syntax: http://nestacms.com/docs/creating-content/markdown-cheat-sheet\n",
    "\n",
    "****"
   ]
  },
  {
   "cell_type": "code",
   "execution_count": 1,
   "metadata": {},
   "outputs": [],
   "source": [
    "import pandas as pd\n",
    "import numpy as np\n",
    "import matplotlib.pyplot as plt\n",
    "\n",
    "df = pd.read_csv('data/human_body_temperature.csv')"
   ]
  },
  {
   "cell_type": "code",
   "execution_count": 2,
   "metadata": {},
   "outputs": [],
   "source": [
    "# define the ECDF per DataCamp\n",
    "def ecdf(data):\n",
    "    x = np.sort(data)\n",
    "    y = np.arange(1,len(x)+1)/len(x)\n",
    "    return x, y"
   ]
  },
  {
   "cell_type": "code",
   "execution_count": 3,
   "metadata": {},
   "outputs": [
    {
     "data": {
      "image/png": "[encoded data removed]",
      "text/plain": [
       "<Figure size 864x288 with 2 Axes>"
      ]
     },
     "metadata": {
      "needs_background": "light"
     },
     "output_type": "display_data"
    }
   ],
   "source": [
    "# Graphically inspect the whole population\n",
    "mean = np.mean(df['temperature'])\n",
    "std = np.std(df['temperature'])\n",
    "samples = np.random.normal(mean, std, size=1000)\n",
    "\n",
    "x_pop, y_pop = ecdf(df['temperature'])\n",
    "x_norm, y_norm = ecdf(samples)\n",
    "\n",
    "plt.figure(figsize=(12,4))\n",
    "plt.subplot(1,2,1)\n",
    "_ = plt.title('ECDF of population')\n",
    "_ = plt.plot(x_pop, y_pop, linestyle='-', label='Observed')\n",
    "_ = plt.plot(x_norm, y_norm, linestyle='-', alpha=0.8, label='Norm.Dist')\n",
    "_ = plt.legend(loc='lower right')\n",
    "_ = plt.xlabel('Temperature (F)')\n",
    "_ = plt.ylabel('ECDF')\n",
    "plt.subplot(1,2,2)\n",
    "_ = plt.title('Histogram')\n",
    "_ = plt.hist(df['temperature'], bins=int(len(df['temperature'])**0.5), density=True)\n",
    "_ = plt.xlabel('Temperature (F)')\n",
    "_ = plt.ylabel('Observations')\n",
    "plt.show()"
   ]
  },
  {
   "cell_type": "code",
   "execution_count": 4,
   "metadata": {},
   "outputs": [
    {
     "name": "stdout",
     "output_type": "stream",
     "text": [
      "Statistics=0.987, p=0.233\n"
     ]
    }
   ],
   "source": [
    "from scipy.stats import shapiro\n",
    "\n",
    "# normality test with Shapiro, good for datasets <1,000\n",
    "stat, p = shapiro(df['temperature'])\n",
    "print('Statistics=%.3f, p=%.3f' % (stat, p))\n",
    "\n",
    "# inspired by: https://machinelearningmastery.com/a-gentle-introduction-to-normality-tests-in-python/"
   ]
  },
  {
   "cell_type": "markdown",
   "metadata": {},
   "source": [
    "# Answer 1:\n",
    "\n",
    "A graphical inspection casts some doubt. The histogram shows a light right tail, and the ECDF shows some deviation around 99F.  \n",
    "\n",
    "However, the Shapiro-Wilks test returns a p-value of 0.23, well above the typical null hypothesis rejection threshold of 0.05.  \n",
    "Therefore, we **accept the null hypothesis: the dataset is normal**."
   ]
  },
  {
   "cell_type": "code",
   "execution_count": 5,
   "metadata": {},
   "outputs": [
    {
     "name": "stdout",
     "output_type": "stream",
     "text": [
      "130\n"
     ]
    }
   ],
   "source": [
    "print(len(df))"
   ]
  },
  {
   "cell_type": "markdown",
   "metadata": {},
   "source": [
    "# Answer 2:\n",
    "\n",
    "The dataset contains 130 observations. This paper regarding normality: https://www.ncbi.nlm.nih.gov/pmc/articles/PMC3693611/ considers a sample size of 30 to 40 \"large enough\".\n",
    "\n",
    "Yes, according to the source paper of this data set, the data came from seperate individuals and the observations can therefore be considered independent."
   ]
  },
  {
   "cell_type": "code",
   "execution_count": 6,
   "metadata": {
    "scrolled": true
   },
   "outputs": [
    {
     "name": "stdout",
     "output_type": "stream",
     "text": [
      "observed mean=98.25\n",
      "p_value=0.00\n",
      "Reject the 0H: the true pop mean is not 98.6\n"
     ]
    },
    {
     "data": {
      "image/png": "[encoded data removed]",
      "text/plain": [
       "<Figure size 432x288 with 1 Axes>"
      ]
     },
     "metadata": {
      "needs_background": "light"
     },
     "output_type": "display_data"
    }
   ],
   "source": [
    "#\n",
    "# (I) bootstrap test - 0H: population mean is 98.6F\n",
    "#\n",
    "print('observed mean=%.2f' % mean)\n",
    "\n",
    "# Step one: shift the observations to a mean of 98.6F:\n",
    "df['shifted_temperature'] = df['temperature'] - mean + 98.6\n",
    "\n",
    "# Step two: take bootstrap samples of len(df)\n",
    "def bootstrap_replicate_1d(data, func):\n",
    "    return func(np.random.choice(data, size=len(data)))\n",
    "\n",
    "def draw_bs_reps(data, func, size=1):\n",
    "    \"\"\"Draw bootstrap replicates.\"\"\"\n",
    "\n",
    "    # Initialize array of replicates: bs_replicates\n",
    "    bs_replicates = np.empty(size)\n",
    "\n",
    "    # Generate replicates\n",
    "    for i in range(size):\n",
    "        bs_replicates[i] = bootstrap_replicate_1d(data, func)\n",
    "\n",
    "    return bs_replicates\n",
    "\n",
    "bs_repl = draw_bs_reps(df['shifted_temperature'], np.mean, 500)\n",
    "\n",
    "# Step three: calculate and interpret p-value\n",
    "p_value = sum(bs_repl < mean)/len(bs_repl)\n",
    "print('p_value=%.2f' % p_value)\n",
    "if p_value < 0.05:\n",
    "    print('Reject the 0H: the true pop mean is not 98.6')\n",
    "else:\n",
    "    print('Accept the 0H: the true pop mean is 98.6')\n",
    "\n",
    "# Step four: d\n",
    "plt.hist(bs_repl)\n",
    "plt.title('Bootstrap samples, mean of 98.6F\\nRed line is observed mean')\n",
    "plt.xlabel('Temperature')\n",
    "plt.ylabel('Observations')\n",
    "plt.axvline(x=mean, color='r')\n",
    "plt.show()"
   ]
  },
  {
   "cell_type": "code",
   "execution_count": 7,
   "metadata": {},
   "outputs": [
    {
     "name": "stdout",
     "output_type": "stream",
     "text": [
      "p of 1 sample t-test=0.00\n",
      "p of 1 sample z-test=0.00\n"
     ]
    }
   ],
   "source": [
    "import scipy\n",
    "from statsmodels.stats.weightstats import ztest\n",
    "\n",
    "#\n",
    "# (II) Frequentist testing\n",
    "#\n",
    "\n",
    "# We will use a One-Sample t-test. \n",
    "# The one-sample are the original observations, and the \"known mean\" is the hypothesized 98.6F.\n",
    "\n",
    "t, p_1sttest = scipy.stats.ttest_1samp(df['temperature'], 98.6)\n",
    "z, p_zstat = ztest(x1=df['temperature'], value=98.6)\n",
    "\n",
    "print('p of 1 sample t-test=%.2f' % p_1sttest)\n",
    "print('p of 1 sample z-test=%.2f' % p_zstat)"
   ]
  },
  {
   "cell_type": "markdown",
   "metadata": {},
   "source": [
    "# Answer 3:\n",
    "\n",
    "## 3.1: Bootstrap Replicates Conclusion\n",
    "The p-value of 0.00 is smaller than the typical threshold of 0.05, so we **reject the null hypothesis**.\n",
    "Therefore, no, it is highly unlikely that the true population mean is 98.6F.  \n",
    "\n",
    "## 3.2: Frequentist testing\n",
    "* We use a **one-sample test**, because we are to compare one known sample (original temperature) to a hypothesized population mean of 98.6.\n",
    "* The **z-test is more appropriate** because the sample size is large (>30).\n",
    "\n",
    "Both tests return a p-value of 0.00 < 0.05. Therefore, in both cases **we reject the 0H**: the true population mean is not 98.6F."
   ]
  },
  {
   "cell_type": "code",
   "execution_count": 8,
   "metadata": {},
   "outputs": [
    {
     "name": "stdout",
     "output_type": "stream",
     "text": [
      "p_value=0.10\n",
      "Accept the 0H: the true pop mean is 98.6\n"
     ]
    }
   ],
   "source": [
    "# take a random sample of 10 and perform the t-test:\n",
    "np.random.seed(100)\n",
    "sample_of_10 = np.random.choice(df['temperature'], 10)\n",
    "\n",
    "t_small, p_1sttest_small = scipy.stats.ttest_1samp(sample_of_10, 98.6)\n",
    "\n",
    "print('p_value=%.2f' % p_1sttest_small)\n",
    "if p_1sttest_small < 0.05:\n",
    "    print('Reject the 0H: the true pop mean is not 98.6')\n",
    "else:\n",
    "    print('Accept the 0H: the true pop mean is 98.6')"
   ]
  },
  {
   "cell_type": "markdown",
   "metadata": {},
   "source": [
    "# Answer 4:\n",
    "\n",
    "When using a smaller sample size of 10, a t-test is more appropriate.\n",
    "\n",
    "For the small sample, the test yields a p > 0.05. Therefore we accept the 0H, the true population mean is 98.6.  \n",
    "For this small sample, it is difficult to infer the standard deviation. Our observed mean could more plausibly be an outlier.\n",
    "\n",
    "Also, the p-value varies heavily when re-sampling. To produce consistent results, we seed the RNG."
   ]
  },
  {
   "cell_type": "code",
   "execution_count": 9,
   "metadata": {},
   "outputs": [
    {
     "name": "stdout",
     "output_type": "stream",
     "text": [
      "95% Confidence interval of observed data (bootstrap): [98.12459615 98.37848077]\n",
      "95% Confidence interval of idealized distribution (frequentist): [96.90424009 99.65604937]\n",
      "Margin of Error using bootstrap: 0.000\n",
      "Margin of Error using frequentist appr.: -0.420\n"
     ]
    }
   ],
   "source": [
    "# Calculate the 95% confidence interval of the observed data using bootstrap replicates:\n",
    "bs_repl_obs = draw_bs_reps(df['temperature'], np.mean, 1000)\n",
    "conf_int_observed = np.percentile(bs_repl_obs, [2.5, 97.5])\n",
    "print('95% Confidence interval of observed data (bootstrap):', conf_int_observed)\n",
    "\n",
    "# Calculate the 95% confidence interval of the idealized distribution (frequentist approach)\n",
    "conf_int_ideal = np.percentile(samples, [2.5, 97.5])\n",
    "print('95% Confidence interval of idealized distribution (frequentist):', conf_int_ideal)\n",
    "\n",
    "# Margin of error using: Critical Value (z-stat) * Std Deviation\n",
    "MoE_observed = ztest(x1=bs_repl_obs, value=np.mean(bs_repl_obs))[0] * np.std(bs_repl_obs)\n",
    "MoE_idealized = ztest(x1=samples, value=mean)[0] * std\n",
    "print('Margin of Error using bootstrap: %.3f\\nMargin of Error using frequentist appr.: %.3f' % (MoE_observed, MoE_idealized))"
   ]
  },
  {
   "cell_type": "code",
   "execution_count": 10,
   "metadata": {},
   "outputs": [
    {
     "data": {
      "image/png": "[encoded data removed]",
      "text/plain": [
       "<Figure size 432x288 with 1 Axes>"
      ]
     },
     "metadata": {
      "needs_background": "light"
     },
     "output_type": "display_data"
    }
   ],
   "source": [
    "x_bs, y_bs = ecdf(bs_repl_obs)\n",
    "\n",
    "_ = plt.title('ECDF of BS repl and frequentist data')\n",
    "_ = plt.plot(x_bs, y_bs, label='Bootstrap')\n",
    "_ = plt.plot(x_pop, y_pop, linestyle='-', label='Observed')\n",
    "_ = plt.legend(loc='lower right')\n",
    "_ = plt.xlabel('Temperature (F)')\n",
    "_ = plt.ylabel('ECDF')\n",
    "plt.show()"
   ]
  },
  {
   "cell_type": "code",
   "execution_count": 11,
   "metadata": {},
   "outputs": [
    {
     "name": "stdout",
     "output_type": "stream",
     "text": [
      "0.730357778905038\n",
      "0.7303577789050377\n",
      "0.06411998361060924\n"
     ]
    }
   ],
   "source": [
    "print(np.std(df['shifted_temperature']))\n",
    "print(np.std(df['temperature']))\n",
    "print(np.std(bs_repl))"
   ]
  },
  {
   "cell_type": "markdown",
   "metadata": {},
   "source": [
    "# Answer 5\n",
    "\n",
    "An observed temperature is 'abnormal' when it is lower than 96.9 F or higher than 99.7 F."
   ]
  },
  {
   "cell_type": "code",
   "execution_count": 12,
   "metadata": {},
   "outputs": [
    {
     "data": {
      "image/png": "[encoded data removed]",
      "text/plain": [
       "<Figure size 432x288 with 1 Axes>"
      ]
     },
     "metadata": {
      "needs_background": "light"
     },
     "output_type": "display_data"
    },
    {
     "name": "stdout",
     "output_type": "stream",
     "text": [
      "Male mean temperature: 98.10 and sample size: 65\n",
      "Female mean temperature: 98.39 and sample size: 65\n"
     ]
    }
   ],
   "source": [
    "# Graphically inspect the population broken out by gender\n",
    "\n",
    "men_temp = df[df['gender'] == 'M']['temperature']\n",
    "women_temp = df[df['gender'] == 'F']['temperature']\n",
    "\n",
    "men_std = np.std(men_temp)\n",
    "men_mean = np.mean(men_temp)\n",
    "women_std = np.std(women_temp)\n",
    "women_mean = np.mean(women_temp)\n",
    "\n",
    "x_men, y_men = ecdf(men_temp)\n",
    "x_women, y_women = ecdf(women_temp)\n",
    "\n",
    "plt.figure(figsize=(6,4))\n",
    "_ = plt.plot(x_men, y_men, linestyle='-', label='Men')\n",
    "_ = plt.plot(x_women, y_women, linestyle='-', label='Women')\n",
    "_ = plt.title('Male temperature')\n",
    "_ = plt.xlabel('Temperature (F)')\n",
    "_ = plt.ylabel('Observations')\n",
    "_ = plt.legend(loc='lower right')\n",
    "_ = plt.axvline(x=men_mean, color='b', alpha=0.5)\n",
    "_ = plt.axvline(x=women_mean, color='orange', alpha=0.5)\n",
    "\n",
    "plt.show()\n",
    "\n",
    "print(('Male mean temperature: %.2f and sample size: %.0f') % (men_mean, len(men_temp)))\n",
    "print(('Female mean temperature: %.2f and sample size: %.0f') % (women_mean, len(women_temp)))"
   ]
  },
  {
   "cell_type": "markdown",
   "metadata": {},
   "source": [
    "The observed means appear quite close, so a statistical test is needed.  \n",
    "\n",
    "We will proceed with a two-sample t-test, which is often used to compare mean values of normal distribution."
   ]
  },
  {
   "cell_type": "code",
   "execution_count": 13,
   "metadata": {},
   "outputs": [
    {
     "name": "stdout",
     "output_type": "stream",
     "text": [
      "the p-value is 0.02\n"
     ]
    }
   ],
   "source": [
    "tstat_MF, p_val_MF = scipy.stats.ttest_ind(men_temp, women_temp, equal_var=False)\n",
    "\n",
    "print('the p-value is %.2f' % p_val_MF)"
   ]
  },
  {
   "cell_type": "markdown",
   "metadata": {},
   "source": [
    "# Answer 6\n",
    "\n",
    "Yes, there is a statistically significant difference in male body temperature compared to female body temperature: the male body temperature is lower."
   ]
  }
 ],
 "metadata": {
  "kernelspec": {
   "display_name": "Python 3",
   "language": "python",
   "name": "python3"
  },
  "language_info": {
   "codemirror_mode": {
    "name": "ipython",
    "version": 3
   },
   "file_extension": ".py",
   "mimetype": "text/x-python",
   "name": "python",
   "nbconvert_exporter": "python",
   "pygments_lexer": "ipython3",
   "version": "3.7.2"
  }
 },
 "nbformat": 4,
 "nbformat_minor": 1
}
